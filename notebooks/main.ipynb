{
 "cells": [
  {
   "cell_type": "markdown",
   "metadata": {},
   "source": [
    "## 1. Import Libraries"
   ]
  },
  {
   "cell_type": "code",
   "execution_count": null,
   "metadata": {},
   "outputs": [],
   "source": [
    "import pandas as pd\n",
    "import numpy as np\n",
    "import matplotlib.pyplot as plt\n",
    "import seaborn as sns\n",
    "\n",
    "from sklearn.metrics import accuracy_score, classification_report, confusion_matrix\n",
    "from sklearn.linear_model import LogisticRegression\n",
    "from sklearn.ensemble import RandomForestClassifier\n",
    "from sklearn.svm import SVC\n",
    "from sklearn.neighbors import KNeighborsClassifier\n",
    "from sklearn.ensemble import GradientBoostingClassifier\n",
    "from sklearn.naive_bayes import GaussianNB\n",
    "from sklearn.tree import DecisionTreeClassifier\n",
    "from sklearn.ensemble import AdaBoostClassifier\n",
    "\n",
    "print(\"Libraries imported successfully yay!\")"
   ]
  },
  {
   "cell_type": "markdown",
   "metadata": {},
   "source": [
    "## 2. Initial Dataset Understanding"
   ]
  },
  {
   "cell_type": "markdown",
   "metadata": {},
   "source": [
    "### 2.1 Read dataset"
   ]
  },
  {
   "cell_type": "code",
   "execution_count": 4,
   "metadata": {},
   "outputs": [],
   "source": [
    "df = pd.read_csv('./data/diabetes_binary_health_indicators_BRFSS2015.csv')"
   ]
  },
  {
   "cell_type": "markdown",
   "metadata": {},
   "source": [
    "### 2.2. Basic Dataset Information"
   ]
  },
  {
   "cell_type": "code",
   "execution_count": null,
   "metadata": {},
   "outputs": [],
   "source": [
    "df.head()"
   ]
  },
  {
   "cell_type": "code",
   "execution_count": null,
   "metadata": {},
   "outputs": [],
   "source": [
    "df.info()"
   ]
  },
  {
   "cell_type": "code",
   "execution_count": 5,
   "metadata": {},
   "outputs": [],
   "source": [
    "df['Age']=df['Age'].astype('int64')\n",
    "df['Education']=df['Education'].astype('int64')\n",
    "df['Income']=df['Income'].astype('int64')\n",
    "df['BMI']=df['BMI'].astype('int64')\n",
    "df['CholCheck']=df['CholCheck'].astype('int64')\n",
    "df['Smoker']=df['Smoker'].astype('int64')\n",
    "df['Stroke']=df['Stroke'].astype('int64')\n",
    "df['HeartDiseaseorAttack']=df['HeartDiseaseorAttack'].astype('int64')\n",
    "df['PhysActivity']=df['PhysActivity'].astype('int64')\n",
    "df['Fruits']=df['Fruits'].astype('int64')\n",
    "df['Veggies']=df['Veggies'].astype('int64')\n",
    "df['HvyAlcoholConsump']=df['HvyAlcoholConsump'].astype('int64')\n",
    "df['AnyHealthcare']=df['AnyHealthcare'].astype('int64')\n",
    "df['NoDocbcCost']=df['NoDocbcCost'].astype('int64')\n",
    "df['GenHlth']=df['GenHlth'].astype('int64')\n",
    "df['MentHlth']=df['MentHlth'].astype('int64')\n",
    "df['PhysHlth']=df['PhysHlth'].astype('int64')\n",
    "df['DiffWalk']=df['DiffWalk'].astype('int64')\n",
    "df['Sex']=df['Sex'].astype('int64')\n",
    "df['Diabetes_binary']=df['Diabetes_binary'].astype('int64')\n",
    "df['HighBP']=df['HighBP'].astype('int64')\n",
    "df['HighChol']=df['HighChol'].astype('int64')"
   ]
  },
  {
   "cell_type": "code",
   "execution_count": null,
   "metadata": {},
   "outputs": [],
   "source": [
    "df.columns"
   ]
  },
  {
   "cell_type": "code",
   "execution_count": null,
   "metadata": {},
   "outputs": [],
   "source": [
    "df.describe().T"
   ]
  },
  {
   "cell_type": "markdown",
   "metadata": {},
   "source": [
    "### 2.3 Data Cleaning"
   ]
  },
  {
   "cell_type": "code",
   "execution_count": null,
   "metadata": {},
   "outputs": [],
   "source": [
    "# Check for missing data\n",
    "df.isnull().sum()"
   ]
  },
  {
   "cell_type": "code",
   "execution_count": null,
   "metadata": {},
   "outputs": [],
   "source": [
    "# Check for duplicated data\n",
    "df.duplicated().sum()"
   ]
  },
  {
   "cell_type": "code",
   "execution_count": 7,
   "metadata": {},
   "outputs": [],
   "source": [
    "# Remove duplicated data\n",
    "df.drop_duplicates(inplace=True)"
   ]
  },
  {
   "cell_type": "code",
   "execution_count": null,
   "metadata": {},
   "outputs": [],
   "source": [
    "# Get number of rows x columns\n",
    "df.shape"
   ]
  },
  {
   "cell_type": "code",
   "execution_count": 8,
   "metadata": {},
   "outputs": [],
   "source": [
    "# Rename columns for better understanding\n",
    "df = df.rename(columns={'Diabetes_binary': 'Diabetes'})"
   ]
  },
  {
   "cell_type": "markdown",
   "metadata": {},
   "source": [
    "## 2.3 EDA - Exploratory Data Analysis"
   ]
  },
  {
   "cell_type": "markdown",
   "metadata": {},
   "source": [
    "### 2.3.1 Target Distribution across the dataset"
   ]
  },
  {
   "cell_type": "code",
   "execution_count": null,
   "metadata": {},
   "outputs": [],
   "source": [
    "sns.countplot(x='Diabetes', data=df)\n",
    "plt.title('Diabetes Prevalence')\n",
    "plt.xlabel('Diabetes (0: No Diabetes, 1: Has Diabetes)')\n",
    "plt.ylabel('Count')\n",
    "\n",
    "for bar in plt.gca().containers:\n",
    "    plt.gca().bar_label(bar)\n",
    "plt.show()"
   ]
  },
  {
   "cell_type": "markdown",
   "metadata": {},
   "source": [
    "### 2.3.2 Diabetes Prevalence by Gender"
   ]
  },
  {
   "cell_type": "code",
   "execution_count": null,
   "metadata": {},
   "outputs": [],
   "source": [
    "df_plot = df.copy()\n",
    "df_plot['Sex'] = df_plot['Sex'].replace({1: 'Male', 0: 'Female'})\n",
    "\n",
    "sns.barplot(x='Sex', y='Diabetes', data=df_plot, errorbar=None)\n",
    "plt.title('Diabetes Risk by Gender')\n",
    "plt.ylabel('Proportion with Diabetes')\n",
    "plt.show()\n"
   ]
  },
  {
   "cell_type": "markdown",
   "metadata": {},
   "source": [
    "### 2.3.3 Diabetes Prevalence by Age Categories"
   ]
  },
  {
   "cell_type": "code",
   "execution_count": null,
   "metadata": {},
   "outputs": [],
   "source": [
    "# Age Categories Mapping\n",
    "age_category_map = {\n",
    "    1: '18-24', \n",
    "    2: '25-29', \n",
    "    3: '30-34', \n",
    "    4: '35-39', \n",
    "    5: '40-44',\n",
    "    6: '45-49', \n",
    "    7: '50-54', \n",
    "    8: '55-59', \n",
    "    9: '60-64', \n",
    "    10: '65-69', \n",
    "    11: '70-74', \n",
    "    12: '75-79', \n",
    "    13: '80+'\n",
    "}\n",
    "\n",
    "# Countplot \n",
    "sns.countplot(x='Age', hue='Diabetes', data=df, order=range(1, 14))\n",
    "plt.title('Diabetes Prevalence by Age')\n",
    "plt.xlabel('Age Categories')\n",
    "plt.ylabel('Count')\n",
    "plt.show()\n",
    "\n",
    "# Consider only people with diabetes (Diabetes = 1)\n",
    "df_diabetes = df[df['Diabetes'] == 1]\n",
    "\n",
    "# Calculate the total count per age category\n",
    "age_category_count_diabetes = df_diabetes['Age'].value_counts().sort_index()\n",
    "\n",
    "# Find the age category with the highest count for people with diabetes\n",
    "max_age_category_diabetes = age_category_count_diabetes.idxmax()\n",
    "max_count_diabetes = age_category_count_diabetes.max()\n",
    "\n",
    "max_age_group_diabetes = age_category_map[max_age_category_diabetes]\n",
    "\n",
    "print(f\"Age category with the highest number of people with diabetes: {max_age_category_diabetes} ({max_age_group_diabetes} years old) with a total of {max_count_diabetes} people.\")\n"
   ]
  },
  {
   "cell_type": "markdown",
   "metadata": {},
   "source": [
    "### 2.3.4 Diabetes Prevalence in Males"
   ]
  },
  {
   "cell_type": "code",
   "execution_count": null,
   "metadata": {},
   "outputs": [],
   "source": [
    "# Data for males with diabetes\n",
    "df_males = df[(df['Sex'] == 1)]"
   ]
  },
  {
   "cell_type": "code",
   "execution_count": null,
   "metadata": {},
   "outputs": [],
   "source": [
    "# Countplot \n",
    "sns.countplot(x='Age', hue='Diabetes', data=df_males, order=range(1, 14))\n",
    "plt.title('Diabetes Prevalence in Males by Age Category')\n",
    "plt.xlabel('Age Categories')\n",
    "plt.ylabel('Count')\n",
    "plt.show()\n",
    "\n",
    "df_males_diabetes = df_males[df_males['Diabetes'] == 1]\n",
    "\n",
    "age_category_count_male_diabetes = df_males_diabetes['Age'].value_counts().sort_index()\n",
    "\n",
    "max_age_category_male_diabetes = age_category_count_male_diabetes.idxmax()\n",
    "max_count_male_diabetes = age_category_count_male_diabetes.max()\n",
    "\n",
    "max_age_group_male_diabetes = age_category_map[max_age_category_male_diabetes]\n",
    "\n",
    "print(f\"Age category with the highest number of people with diabetes: {max_age_category_male_diabetes} ({max_age_group_male_diabetes} years old) with a total of {max_count_male_diabetes} people.\")"
   ]
  },
  {
   "cell_type": "code",
   "execution_count": null,
   "metadata": {},
   "outputs": [],
   "source": [
    "df_males_bmi_above_40 = df[(df['Sex'] == 1) & (df['BMI'] > 40)]\n",
    "\n",
    "# Calculate the count of males with diabetes (Diabetes == 1) and without diabetes (Diabetes == 0)\n",
    "diabetes_count = df_males_bmi_above_40['Diabetes'].value_counts()\n",
    "\n",
    "# Calculate the percentage of males with BMI > 40 who have diabetes\n",
    "diabetes_percentage = (diabetes_count.get(1, 0) / len(df_males_bmi_above_40)) * 100\n",
    "no_diabetes_percentage = 100 - diabetes_percentage\n",
    "\n",
    "# Create a pie chart (circle plot)\n",
    "labels = ['With Diabetes', 'Without Diabetes']\n",
    "sizes = [diabetes_percentage, no_diabetes_percentage]\n",
    "colors = ['#ff9999','#66b3ff']\n",
    "explode = (0.1, 0)  \n",
    "\n",
    "plt.pie(sizes, explode=explode, labels=labels, colors=colors, autopct='%1.1f%%', startangle=90)\n",
    "plt.title('Percentage of Diabetic Males with BMI > 40')\n",
    "plt.axis('equal')  \n",
    "plt.show()\n",
    "\n",
    "print(f\"Percentage diabetic males with BMI > 40: {diabetes_percentage:.1f}%\")"
   ]
  },
  {
   "cell_type": "markdown",
   "metadata": {},
   "source": [
    "### 2.3.5 Diabetes Prevalence in Females"
   ]
  },
  {
   "cell_type": "code",
   "execution_count": 133,
   "metadata": {},
   "outputs": [],
   "source": [
    "# Stats for females with diabetes\n",
    "df_females = df[(df['Sex'] == 0)]"
   ]
  },
  {
   "cell_type": "code",
   "execution_count": null,
   "metadata": {},
   "outputs": [],
   "source": [
    "# Countplot \n",
    "sns.countplot(x='Age', hue='Diabetes', data=df_females, order=range(1, 14))\n",
    "plt.title('Diabetes Prevalence in Females by Age Category')\n",
    "plt.xlabel('Age Categories')\n",
    "plt.ylabel('Count')\n",
    "plt.show()\n",
    "\n",
    "df_females_diabetes = df_females[df_females['Diabetes'] == 1]\n",
    "\n",
    "age_category_count_female_diabetes = df_females_diabetes['Age'].value_counts().sort_index()\n",
    "\n",
    "max_age_category_female_diabetes = age_category_count_female_diabetes.idxmax()\n",
    "max_count_female_diabetes = age_category_count_female_diabetes.max()\n",
    "\n",
    "max_age_group_female_diabetes = age_category_map[max_age_category_female_diabetes]\n",
    "\n",
    "print(f\"Age category with the highest number of people with diabetes: {max_age_category_female_diabetes} ({max_age_group_female_diabetes} years old) with a total of {max_count_female_diabetes} people.\")"
   ]
  },
  {
   "cell_type": "code",
   "execution_count": null,
   "metadata": {},
   "outputs": [],
   "source": [
    "df_females_bmi_above_40 = df[(df['Sex'] == 0) & (df['BMI'] > 40)]\n",
    "\n",
    "# Calculate the count of females with diabetes (Diabetes == 1) and without diabetes (Diabetes == 0)\n",
    "diabetes_count = df_females_bmi_above_40['Diabetes'].value_counts()\n",
    "\n",
    "# Calculate the percentage of females with BMI > 40 who have diabetes\n",
    "diabetes_percentage = (diabetes_count.get(1, 0) / len(df_females_bmi_above_40)) * 100\n",
    "no_diabetes_percentage = 100 - diabetes_percentage\n",
    "\n",
    "# Create a pie chart (circle plot)\n",
    "labels = ['With Diabetes', 'Without Diabetes']\n",
    "sizes = [diabetes_percentage, no_diabetes_percentage]\n",
    "colors = ['#ff9999','#66b3ff']\n",
    "explode = (0.1, 0)  \n",
    "\n",
    "plt.pie(sizes, explode=explode, labels=labels, colors=colors, autopct='%1.1f%%', startangle=90)\n",
    "plt.title('Percentage of Diabetic Females with BMI > 40')\n",
    "plt.axis('equal')  \n",
    "plt.show()\n",
    "\n",
    "print(f\"Percentage diabetic females with BMI > 40: {diabetes_percentage:.1f}%\")"
   ]
  },
  {
   "cell_type": "markdown",
   "metadata": {},
   "source": [
    "### 2.3.6 Diabetes and Risk Factors Analysis"
   ]
  },
  {
   "cell_type": "code",
   "execution_count": null,
   "metadata": {},
   "outputs": [],
   "source": [
    "# BMI Analysis\n",
    "sns.boxplot(x='Diabetes', y='BMI', data=df)\n",
    "plt.title('BMI Distribution by Diabetes Risk')\n",
    "plt.xlabel('Diabetes (0: No Diabetes, 1: Has Diabetes)')\n",
    "plt.ylabel('BMI')\n",
    "plt.show()\n",
    "\n",
    "# Impact of Physical Activity and Diabetes\n",
    "sns.barplot(x='PhysActivity', y='Diabetes', data=df, errorbar=None)\n",
    "plt.title('Diabetes Risk by Physical Activity')\n",
    "plt.xlabel('Physical Activity (1: Yes, 0: No)')\n",
    "plt.ylabel('Proportion with Diabetes')\n",
    "plt.show()\n",
    "\n",
    "# Impact of Smoking and Diabetes \n",
    "sns.barplot(x='Smoker', y='Diabetes', data=df, errorbar=None)\n",
    "plt.title('Diabetes Risk by Smoking Status')\n",
    "plt.xlabel('Smoking (1: Yes, 0: No)')\n",
    "plt.ylabel('Proportion with Diabetes')\n",
    "plt.show()\n",
    "\n",
    "# Impact of General Health Status and Diabetes\n",
    "sns.barplot(x='GenHlth', y='Diabetes', data=df, errorbar=None)\n",
    "plt.title('Diabetes Risk by General Health')\n",
    "plt.xlabel('General Health (1: Excellent, 5: Poor)')\n",
    "plt.ylabel('Proportion with Diabetes')\n",
    "plt.show()\n"
   ]
  },
  {
   "cell_type": "markdown",
   "metadata": {},
   "source": [
    "### 2.3. Correlation Analysis"
   ]
  },
  {
   "cell_type": "markdown",
   "metadata": {},
   "source": [
    "#### 2.3.1 HeatMap"
   ]
  },
  {
   "cell_type": "code",
   "execution_count": null,
   "metadata": {},
   "outputs": [],
   "source": [
    "plt.figure(figsize=(20,12))\n",
    "sns.heatmap(df.corr(), annot=True, cmap='coolwarm', fmt=\".2f\")\n",
    "plt.title('Feature Correlation Heatmap')\n",
    "plt.show()"
   ]
  },
  {
   "cell_type": "markdown",
   "metadata": {},
   "source": [
    "#### 2.3.1 Correlation of Features with Target Variable"
   ]
  },
  {
   "cell_type": "code",
   "execution_count": null,
   "metadata": {},
   "outputs": [],
   "source": [
    "df.drop('Diabetes', axis=1).corrwith(df.Diabetes).plot(kind='bar', \n",
    "                                                                     grid=True, \n",
    "                                                                     figsize=(20, 8), \n",
    "                                                                     title=\"Correlation with Diabetes_binary\",\n",
    "                                                                     color=\"Brown\")\n",
    "\n"
   ]
  },
  {
   "cell_type": "markdown",
   "metadata": {},
   "source": [
    "##### High Correlated Features"
   ]
  },
  {
   "cell_type": "code",
   "execution_count": null,
   "metadata": {},
   "outputs": [],
   "source": [
    "high_corr = df.corr()\n",
    "high_corr_features = high_corr.index[(high_corr[\"Diabetes\"]) >= 0.2]\n",
    "high_corr_features"
   ]
  },
  {
   "cell_type": "markdown",
   "metadata": {},
   "source": [
    "##### Low Correlated Features"
   ]
  },
  {
   "cell_type": "code",
   "execution_count": null,
   "metadata": {},
   "outputs": [],
   "source": [
    "low_corr = df.corr()\n",
    "low_corr_features = low_corr.index[(low_corr[\"Diabetes\"]) < 0.0]\n",
    "low_corr_features"
   ]
  },
  {
   "cell_type": "markdown",
   "metadata": {},
   "source": [
    "## 3. Data Preprocessing"
   ]
  },
  {
   "cell_type": "markdown",
   "metadata": {},
   "source": [
    "### 3.1 Feature Selection"
   ]
  },
  {
   "cell_type": "code",
   "execution_count": 9,
   "metadata": {},
   "outputs": [],
   "source": [
    "# Dropping low correlated features\n",
    "\n",
    "low_corr = ['PhysActivity', 'Fruits', 'Veggies', 'HvyAlcoholConsump', 'Education', 'Income']\n",
    "df.drop(low_corr , axis= 1 ,inplace=True)"
   ]
  },
  {
   "cell_type": "markdown",
   "metadata": {},
   "source": [
    "### 3.2 Data Splitting for Training and Testing"
   ]
  },
  {
   "cell_type": "code",
   "execution_count": null,
   "metadata": {},
   "outputs": [],
   "source": [
    "from sklearn.model_selection import train_test_split\n",
    "\n",
    "X = df.drop('Diabetes', axis = 1)\n",
    "y = df['Diabetes']\n",
    "\n",
    "X_train, X_test, y_train, y_test = train_test_split(X, y, test_size = 0.2)"
   ]
  },
  {
   "cell_type": "markdown",
   "metadata": {},
   "source": [
    "## 4. Machine Learning Algorithms"
   ]
  },
  {
   "cell_type": "markdown",
   "metadata": {},
   "source": [
    "### 4.1 Logistic Regression"
   ]
  },
  {
   "cell_type": "code",
   "execution_count": null,
   "metadata": {},
   "outputs": [],
   "source": [
    "lr = LogisticRegression(max_iter=500)\n",
    "\n",
    "lr.fit(X_train, y_train)"
   ]
  },
  {
   "cell_type": "code",
   "execution_count": null,
   "metadata": {},
   "outputs": [],
   "source": [
    "lr_pred = lr.predict(X_test)\n",
    "\n",
    "print(f\"Logistic Regression Accuracy: {accuracy_score(y_test, lr_pred):.2f}\")\n",
    "\n",
    "print(confusion_matrix(y_test, lr_pred))\n",
    "\n",
    "print(classification_report(y_test, lr_pred))"
   ]
  },
  {
   "cell_type": "markdown",
   "metadata": {},
   "source": [
    "### 4.2 Random Forest"
   ]
  },
  {
   "cell_type": "code",
   "execution_count": null,
   "metadata": {},
   "outputs": [],
   "source": [
    "# Basic Model\n",
    "rf = RandomForestClassifier()\n",
    "\n",
    "rf.fit(X_train, y_train)\n",
    "\n",
    "# Model with the best parameters\n",
    "rf_best = RandomForestClassifier(\n",
    "    max_depth=None,\n",
    "    min_samples_leaf=4,\n",
    "    min_samples_split=10,\n",
    "    n_estimators=200,\n",
    "    random_state=42\n",
    ")\n",
    "\n",
    "rf_best.fit(X_train, y_train)"
   ]
  },
  {
   "cell_type": "code",
   "execution_count": null,
   "metadata": {},
   "outputs": [],
   "source": [
    "from sklearn.metrics import confusion_matrix\n",
    "\n",
    "# Best Model Used\n",
    "rf_best_pred = rf_best.predict(X_test)\n",
    "\n",
    "# Evaluate performance\n",
    "print(f\"Improved Random Forest Accuracy: {accuracy_score(y_test, rf_best_pred):.4f}\")\n",
    "\n",
    "print(\"\\nClassification Report:\\n\", classification_report(y_test, rf_best_pred))\n",
    "\n",
    "cm = confusion_matrix(y_test, rf_best_pred)\n",
    "plt.figure(figsize=(8, 6))\n",
    "sns.heatmap(cm, annot=True, fmt='d', cmap='Blues', xticklabels=['No Diabetes', 'Diabetes'], yticklabels=['No Diabetes', 'Diabetes'])\n",
    "plt.xlabel('Predicted Label')\n",
    "plt.ylabel('True Label')\n",
    "plt.title('Confusion Matrix')\n",
    "plt.show()"
   ]
  },
  {
   "cell_type": "code",
   "execution_count": null,
   "metadata": {},
   "outputs": [],
   "source": [
    "from sklearn.model_selection import GridSearchCV\n",
    "from sklearn.ensemble import RandomForestClassifier\n",
    "\n",
    "# Define the parameter grid\n",
    "param_grid = {\n",
    "    'n_estimators': [50, 100, 200],\n",
    "    'max_depth': [None, 10, 20, 30],\n",
    "    'min_samples_split': [2, 5, 10],\n",
    "    'min_samples_leaf': [1, 2, 4]\n",
    "}\n",
    "\n",
    "# Create a model instance\n",
    "rf_model = RandomForestClassifier(random_state=42)\n",
    "\n",
    "# GridSearchCV\n",
    "grid_search = GridSearchCV(estimator=rf_model, param_grid=param_grid, \n",
    "                           cv=5, scoring='accuracy', verbose=2, n_jobs=-1)\n",
    "grid_search.fit(X_train, y_train)\n",
    "\n",
    "# Best parameters and best score\n",
    "print(\"Best Parameters:\", grid_search.best_params_)\n",
    "print(\"Best Accuracy:\", grid_search.best_score_)\n",
    "\n",
    "# Results after 36m\n",
    "# Best Parameters: {'max_depth': None, 'min_samples_leaf': 4, 'min_samples_split': 10, 'n_estimators': 200}\n",
    "# Best Accuracy: 0.8526193096561485\n"
   ]
  },
  {
   "cell_type": "markdown",
   "metadata": {},
   "source": [
    "### 4.3 Decision Tree"
   ]
  },
  {
   "cell_type": "code",
   "execution_count": null,
   "metadata": {},
   "outputs": [],
   "source": [
    "dt = DecisionTreeClassifier(random_state=42)\n",
    "\n",
    "dt.fit(X_train, y_train)"
   ]
  },
  {
   "cell_type": "code",
   "execution_count": null,
   "metadata": {},
   "outputs": [],
   "source": [
    "dt_pred = dt.predict(X_test)\n",
    "\n",
    "print(f\"Decision Tree Accuracy: {accuracy_score(y_test, dt_pred):.2f}\")\n",
    "\n",
    "print(confusion_matrix(y_test, dt_pred))\n",
    "\n",
    "print(classification_report(y_test, dt_pred))"
   ]
  },
  {
   "cell_type": "markdown",
   "metadata": {},
   "source": [
    "### 4.4 KNeighborsClassifier Model (KNN)"
   ]
  },
  {
   "cell_type": "code",
   "execution_count": null,
   "metadata": {},
   "outputs": [],
   "source": [
    "knn = KNeighborsClassifier()\n",
    "\n",
    "knn.fit(X_train, y_train)"
   ]
  },
  {
   "cell_type": "code",
   "execution_count": null,
   "metadata": {},
   "outputs": [],
   "source": [
    "knn_pred = rf.predict(X_test)\n",
    "\n",
    "print(f\"KNN Accuracy: {accuracy_score(y_test, knn_pred):.2f}\")\n",
    "\n",
    "print(confusion_matrix(y_test, knn_pred))\n",
    "\n",
    "print(classification_report(y_test, knn_pred))"
   ]
  },
  {
   "cell_type": "markdown",
   "metadata": {},
   "source": [
    "### 4.5 Support Vector Machine (SVM)"
   ]
  },
  {
   "cell_type": "code",
   "execution_count": null,
   "metadata": {},
   "outputs": [],
   "source": [
    "svm = SVC(kernel='linear')\n",
    "\n",
    "svm.fit(X_train, y_train)"
   ]
  },
  {
   "cell_type": "code",
   "execution_count": null,
   "metadata": {},
   "outputs": [],
   "source": [
    "svm_pred = rf.predict(X_test)\n",
    "\n",
    "print(f\"SVM Accuracy: {accuracy_score(y_test, svm_pred):.2f}\")\n",
    "\n",
    "print(confusion_matrix(y_test, svm_pred))\n",
    "\n",
    "print(classification_report(y_test, svm_pred))"
   ]
  },
  {
   "cell_type": "markdown",
   "metadata": {},
   "source": [
    "### 4.6 AdaBoost Classifier"
   ]
  },
  {
   "cell_type": "code",
   "execution_count": null,
   "metadata": {},
   "outputs": [],
   "source": [
    "adaboost = AdaBoostClassifier(n_estimators=50, random_state=42)\n",
    "\n",
    "adaboost.fit(X_train, y_train)"
   ]
  },
  {
   "cell_type": "code",
   "execution_count": null,
   "metadata": {},
   "outputs": [],
   "source": [
    "adaboost_pred = adaboost.predict(X_test)\n",
    "\n",
    "print(f\"AdaBoost Accuracy: {accuracy_score(y_test, adaboost_pred):.2f}\")\n",
    "\n",
    "print(confusion_matrix(y_test, adaboost_pred))\n",
    "\n",
    "print(classification_report(y_test, adaboost_pred))"
   ]
  },
  {
   "cell_type": "markdown",
   "metadata": {},
   "source": [
    "### 4.7 Gradient Boosting Classifier"
   ]
  },
  {
   "cell_type": "code",
   "execution_count": null,
   "metadata": {},
   "outputs": [],
   "source": [
    "gb = GradientBoostingClassifier(random_state=42)\n",
    "\n",
    "gb.fit(X_train, y_train)"
   ]
  },
  {
   "cell_type": "code",
   "execution_count": null,
   "metadata": {},
   "outputs": [],
   "source": [
    "gb_pred = gb.predict(X_test)\n",
    "\n",
    "print(f\"Gradient Boosting Accuracy: {accuracy_score(y_test, gb_pred):.2f}\")\n",
    "\n",
    "print(confusion_matrix(y_test, gb_pred))\n",
    "\n",
    "print(classification_report(y_test, gb_pred))"
   ]
  },
  {
   "cell_type": "markdown",
   "metadata": {},
   "source": [
    "### 4.8 XGBoost"
   ]
  },
  {
   "cell_type": "code",
   "execution_count": null,
   "metadata": {},
   "outputs": [],
   "source": [
    "# from xgboost import XGBClassifier"
   ]
  },
  {
   "cell_type": "code",
   "execution_count": null,
   "metadata": {},
   "outputs": [],
   "source": [
    "# metrics..."
   ]
  },
  {
   "cell_type": "markdown",
   "metadata": {},
   "source": [
    "### 4.9 Naive Bayes"
   ]
  },
  {
   "cell_type": "code",
   "execution_count": null,
   "metadata": {},
   "outputs": [],
   "source": [
    "nb = GaussianNB()\n",
    "\n",
    "nb.fit(X_train, y_train)"
   ]
  },
  {
   "cell_type": "code",
   "execution_count": null,
   "metadata": {},
   "outputs": [],
   "source": [
    "nb_pred = nb.predict(X_test)\n",
    "\n",
    "print(f\"Gradient Boosting Accuracy: {accuracy_score(y_test, nb_pred):.2f}\")\n",
    "\n",
    "print(confusion_matrix(y_test, nb_pred))\n",
    "\n",
    "print(classification_report(y_test, nb_pred))\n"
   ]
  },
  {
   "cell_type": "markdown",
   "metadata": {},
   "source": [
    "## 5. Conclusion"
   ]
  }
 ],
 "metadata": {
  "kernelspec": {
   "display_name": "Python 3",
   "language": "python",
   "name": "python3"
  },
  "language_info": {
   "codemirror_mode": {
    "name": "ipython",
    "version": 3
   },
   "file_extension": ".py",
   "mimetype": "text/x-python",
   "name": "python",
   "nbconvert_exporter": "python",
   "pygments_lexer": "ipython3",
   "version": "3.11.5"
  }
 },
 "nbformat": 4,
 "nbformat_minor": 4
}
